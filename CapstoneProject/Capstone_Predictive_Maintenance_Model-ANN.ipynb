{
 "cells": [
  {
   "cell_type": "markdown",
   "id": "7f613611",
   "metadata": {},
   "source": [
    "## Import Required Packages"
   ]
  },
  {
   "cell_type": "code",
   "execution_count": 1,
   "id": "a7e07ebf",
   "metadata": {},
   "outputs": [],
   "source": [
    "import numpy as np\n",
    "import pandas as pd\n",
    "import seaborn as sns\n",
    "import matplotlib.pyplot as plt\n",
    "%matplotlib inline\n",
    "from scipy.stats import zscore\n",
    "from sklearn.model_selection import train_test_split\n",
    "from sklearn.metrics import roc_auc_score, accuracy_score, f1_score, recall_score, precision_score, confusion_matrix, classification_report\n",
    "from sklearn.linear_model import LogisticRegression\n",
    "from sklearn.ensemble import RandomForestClassifier\n",
    "from sklearn.tree import DecisionTreeClassifier\n",
    "from sklearn.ensemble import BaggingClassifier\n",
    "import imblearn\n",
    "from imblearn.over_sampling import SMOTE\n",
    "from imblearn.over_sampling import RandomOverSampler\n",
    "import tensorflow as tf"
   ]
  },
  {
   "cell_type": "markdown",
   "id": "05a01e14",
   "metadata": {},
   "source": [
    "## Load Dataset"
   ]
  },
  {
   "cell_type": "code",
   "execution_count": 2,
   "id": "0beb09a0",
   "metadata": {},
   "outputs": [],
   "source": [
    "mydata=pd.read_csv(\"predictive_maintenance.csv\")"
   ]
  },
  {
   "cell_type": "code",
   "execution_count": 3,
   "id": "d907fa0b",
   "metadata": {},
   "outputs": [
    {
     "data": {
      "text/html": [
       "<div>\n",
       "<style scoped>\n",
       "    .dataframe tbody tr th:only-of-type {\n",
       "        vertical-align: middle;\n",
       "    }\n",
       "\n",
       "    .dataframe tbody tr th {\n",
       "        vertical-align: top;\n",
       "    }\n",
       "\n",
       "    .dataframe thead th {\n",
       "        text-align: right;\n",
       "    }\n",
       "</style>\n",
       "<table border=\"1\" class=\"dataframe\">\n",
       "  <thead>\n",
       "    <tr style=\"text-align: right;\">\n",
       "      <th></th>\n",
       "      <th>date</th>\n",
       "      <th>device</th>\n",
       "      <th>failure</th>\n",
       "      <th>metric1</th>\n",
       "      <th>metric2</th>\n",
       "      <th>metric3</th>\n",
       "      <th>metric4</th>\n",
       "      <th>metric5</th>\n",
       "      <th>metric6</th>\n",
       "      <th>metric7</th>\n",
       "      <th>metric8</th>\n",
       "      <th>metric9</th>\n",
       "    </tr>\n",
       "  </thead>\n",
       "  <tbody>\n",
       "    <tr>\n",
       "      <th>0</th>\n",
       "      <td>1/1/15</td>\n",
       "      <td>S1F01085</td>\n",
       "      <td>0</td>\n",
       "      <td>215630672</td>\n",
       "      <td>56</td>\n",
       "      <td>0</td>\n",
       "      <td>52</td>\n",
       "      <td>6</td>\n",
       "      <td>407438</td>\n",
       "      <td>0</td>\n",
       "      <td>0</td>\n",
       "      <td>7</td>\n",
       "    </tr>\n",
       "    <tr>\n",
       "      <th>1</th>\n",
       "      <td>1/1/15</td>\n",
       "      <td>S1F0166B</td>\n",
       "      <td>0</td>\n",
       "      <td>61370680</td>\n",
       "      <td>0</td>\n",
       "      <td>3</td>\n",
       "      <td>0</td>\n",
       "      <td>6</td>\n",
       "      <td>403174</td>\n",
       "      <td>0</td>\n",
       "      <td>0</td>\n",
       "      <td>0</td>\n",
       "    </tr>\n",
       "    <tr>\n",
       "      <th>2</th>\n",
       "      <td>1/1/15</td>\n",
       "      <td>S1F01E6Y</td>\n",
       "      <td>0</td>\n",
       "      <td>173295968</td>\n",
       "      <td>0</td>\n",
       "      <td>0</td>\n",
       "      <td>0</td>\n",
       "      <td>12</td>\n",
       "      <td>237394</td>\n",
       "      <td>0</td>\n",
       "      <td>0</td>\n",
       "      <td>0</td>\n",
       "    </tr>\n",
       "    <tr>\n",
       "      <th>3</th>\n",
       "      <td>1/1/15</td>\n",
       "      <td>S1F01JE0</td>\n",
       "      <td>0</td>\n",
       "      <td>79694024</td>\n",
       "      <td>0</td>\n",
       "      <td>0</td>\n",
       "      <td>0</td>\n",
       "      <td>6</td>\n",
       "      <td>410186</td>\n",
       "      <td>0</td>\n",
       "      <td>0</td>\n",
       "      <td>0</td>\n",
       "    </tr>\n",
       "    <tr>\n",
       "      <th>4</th>\n",
       "      <td>1/1/15</td>\n",
       "      <td>S1F01R2B</td>\n",
       "      <td>0</td>\n",
       "      <td>135970480</td>\n",
       "      <td>0</td>\n",
       "      <td>0</td>\n",
       "      <td>0</td>\n",
       "      <td>15</td>\n",
       "      <td>313173</td>\n",
       "      <td>0</td>\n",
       "      <td>0</td>\n",
       "      <td>3</td>\n",
       "    </tr>\n",
       "    <tr>\n",
       "      <th>...</th>\n",
       "      <td>...</td>\n",
       "      <td>...</td>\n",
       "      <td>...</td>\n",
       "      <td>...</td>\n",
       "      <td>...</td>\n",
       "      <td>...</td>\n",
       "      <td>...</td>\n",
       "      <td>...</td>\n",
       "      <td>...</td>\n",
       "      <td>...</td>\n",
       "      <td>...</td>\n",
       "      <td>...</td>\n",
       "    </tr>\n",
       "    <tr>\n",
       "      <th>9995</th>\n",
       "      <td>1/11/15</td>\n",
       "      <td>S1F0LR01</td>\n",
       "      <td>0</td>\n",
       "      <td>67857096</td>\n",
       "      <td>0</td>\n",
       "      <td>0</td>\n",
       "      <td>8</td>\n",
       "      <td>9</td>\n",
       "      <td>169543</td>\n",
       "      <td>0</td>\n",
       "      <td>0</td>\n",
       "      <td>0</td>\n",
       "    </tr>\n",
       "    <tr>\n",
       "      <th>9996</th>\n",
       "      <td>1/11/15</td>\n",
       "      <td>S1F0M2PQ</td>\n",
       "      <td>0</td>\n",
       "      <td>67962016</td>\n",
       "      <td>0</td>\n",
       "      <td>0</td>\n",
       "      <td>6</td>\n",
       "      <td>60</td>\n",
       "      <td>233789</td>\n",
       "      <td>0</td>\n",
       "      <td>0</td>\n",
       "      <td>0</td>\n",
       "    </tr>\n",
       "    <tr>\n",
       "      <th>9997</th>\n",
       "      <td>1/11/15</td>\n",
       "      <td>S1F0MBV5</td>\n",
       "      <td>0</td>\n",
       "      <td>110072424</td>\n",
       "      <td>0</td>\n",
       "      <td>0</td>\n",
       "      <td>0</td>\n",
       "      <td>4</td>\n",
       "      <td>355195</td>\n",
       "      <td>0</td>\n",
       "      <td>0</td>\n",
       "      <td>0</td>\n",
       "    </tr>\n",
       "    <tr>\n",
       "      <th>9998</th>\n",
       "      <td>1/11/15</td>\n",
       "      <td>S1F0P1K7</td>\n",
       "      <td>0</td>\n",
       "      <td>149787232</td>\n",
       "      <td>0</td>\n",
       "      <td>0</td>\n",
       "      <td>0</td>\n",
       "      <td>2</td>\n",
       "      <td>256401</td>\n",
       "      <td>0</td>\n",
       "      <td>0</td>\n",
       "      <td>0</td>\n",
       "    </tr>\n",
       "    <tr>\n",
       "      <th>9999</th>\n",
       "      <td>1/11/15</td>\n",
       "      <td>S1F0P2B4</td>\n",
       "      <td>0</td>\n",
       "      <td>221239408</td>\n",
       "      <td>0</td>\n",
       "      <td>0</td>\n",
       "      <td>0</td>\n",
       "      <td>4</td>\n",
       "      <td>262738</td>\n",
       "      <td>0</td>\n",
       "      <td>0</td>\n",
       "      <td>0</td>\n",
       "    </tr>\n",
       "  </tbody>\n",
       "</table>\n",
       "<p>10000 rows × 12 columns</p>\n",
       "</div>"
      ],
      "text/plain": [
       "         date    device  failure    metric1  metric2  metric3  metric4  \\\n",
       "0      1/1/15  S1F01085        0  215630672       56        0       52   \n",
       "1      1/1/15  S1F0166B        0   61370680        0        3        0   \n",
       "2      1/1/15  S1F01E6Y        0  173295968        0        0        0   \n",
       "3      1/1/15  S1F01JE0        0   79694024        0        0        0   \n",
       "4      1/1/15  S1F01R2B        0  135970480        0        0        0   \n",
       "...       ...       ...      ...        ...      ...      ...      ...   \n",
       "9995  1/11/15  S1F0LR01        0   67857096        0        0        8   \n",
       "9996  1/11/15  S1F0M2PQ        0   67962016        0        0        6   \n",
       "9997  1/11/15  S1F0MBV5        0  110072424        0        0        0   \n",
       "9998  1/11/15  S1F0P1K7        0  149787232        0        0        0   \n",
       "9999  1/11/15  S1F0P2B4        0  221239408        0        0        0   \n",
       "\n",
       "      metric5  metric6  metric7  metric8  metric9  \n",
       "0           6   407438        0        0        7  \n",
       "1           6   403174        0        0        0  \n",
       "2          12   237394        0        0        0  \n",
       "3           6   410186        0        0        0  \n",
       "4          15   313173        0        0        3  \n",
       "...       ...      ...      ...      ...      ...  \n",
       "9995        9   169543        0        0        0  \n",
       "9996       60   233789        0        0        0  \n",
       "9997        4   355195        0        0        0  \n",
       "9998        2   256401        0        0        0  \n",
       "9999        4   262738        0        0        0  \n",
       "\n",
       "[10000 rows x 12 columns]"
      ]
     },
     "execution_count": 3,
     "metadata": {},
     "output_type": "execute_result"
    }
   ],
   "source": [
    "mydata.head(10000)"
   ]
  },
  {
   "cell_type": "code",
   "execution_count": 4,
   "id": "0453480b",
   "metadata": {},
   "outputs": [
    {
     "data": {
      "text/html": [
       "<div>\n",
       "<style scoped>\n",
       "    .dataframe tbody tr th:only-of-type {\n",
       "        vertical-align: middle;\n",
       "    }\n",
       "\n",
       "    .dataframe tbody tr th {\n",
       "        vertical-align: top;\n",
       "    }\n",
       "\n",
       "    .dataframe thead th {\n",
       "        text-align: right;\n",
       "    }\n",
       "</style>\n",
       "<table border=\"1\" class=\"dataframe\">\n",
       "  <thead>\n",
       "    <tr style=\"text-align: right;\">\n",
       "      <th></th>\n",
       "      <th>date</th>\n",
       "      <th>device</th>\n",
       "      <th>failure</th>\n",
       "      <th>metric1</th>\n",
       "      <th>metric2</th>\n",
       "      <th>metric3</th>\n",
       "      <th>metric4</th>\n",
       "      <th>metric5</th>\n",
       "      <th>metric6</th>\n",
       "      <th>metric7</th>\n",
       "      <th>metric8</th>\n",
       "      <th>metric9</th>\n",
       "    </tr>\n",
       "  </thead>\n",
       "  <tbody>\n",
       "    <tr>\n",
       "      <th>124489</th>\n",
       "      <td>11/2/15</td>\n",
       "      <td>Z1F0MA1S</td>\n",
       "      <td>0</td>\n",
       "      <td>18310224</td>\n",
       "      <td>0</td>\n",
       "      <td>0</td>\n",
       "      <td>0</td>\n",
       "      <td>10</td>\n",
       "      <td>353705</td>\n",
       "      <td>8</td>\n",
       "      <td>8</td>\n",
       "      <td>0</td>\n",
       "    </tr>\n",
       "    <tr>\n",
       "      <th>124490</th>\n",
       "      <td>11/2/15</td>\n",
       "      <td>Z1F0Q8RT</td>\n",
       "      <td>0</td>\n",
       "      <td>172556680</td>\n",
       "      <td>96</td>\n",
       "      <td>107</td>\n",
       "      <td>4</td>\n",
       "      <td>11</td>\n",
       "      <td>332792</td>\n",
       "      <td>0</td>\n",
       "      <td>0</td>\n",
       "      <td>13</td>\n",
       "    </tr>\n",
       "    <tr>\n",
       "      <th>124491</th>\n",
       "      <td>11/2/15</td>\n",
       "      <td>Z1F0QK05</td>\n",
       "      <td>0</td>\n",
       "      <td>19029120</td>\n",
       "      <td>4832</td>\n",
       "      <td>0</td>\n",
       "      <td>0</td>\n",
       "      <td>11</td>\n",
       "      <td>350410</td>\n",
       "      <td>0</td>\n",
       "      <td>0</td>\n",
       "      <td>0</td>\n",
       "    </tr>\n",
       "    <tr>\n",
       "      <th>124492</th>\n",
       "      <td>11/2/15</td>\n",
       "      <td>Z1F0QL3N</td>\n",
       "      <td>0</td>\n",
       "      <td>226953408</td>\n",
       "      <td>0</td>\n",
       "      <td>0</td>\n",
       "      <td>0</td>\n",
       "      <td>12</td>\n",
       "      <td>358980</td>\n",
       "      <td>0</td>\n",
       "      <td>0</td>\n",
       "      <td>0</td>\n",
       "    </tr>\n",
       "    <tr>\n",
       "      <th>124493</th>\n",
       "      <td>11/2/15</td>\n",
       "      <td>Z1F0QLC1</td>\n",
       "      <td>0</td>\n",
       "      <td>17572840</td>\n",
       "      <td>0</td>\n",
       "      <td>0</td>\n",
       "      <td>0</td>\n",
       "      <td>10</td>\n",
       "      <td>351431</td>\n",
       "      <td>0</td>\n",
       "      <td>0</td>\n",
       "      <td>0</td>\n",
       "    </tr>\n",
       "  </tbody>\n",
       "</table>\n",
       "</div>"
      ],
      "text/plain": [
       "           date    device  failure    metric1  metric2  metric3  metric4  \\\n",
       "124489  11/2/15  Z1F0MA1S        0   18310224        0        0        0   \n",
       "124490  11/2/15  Z1F0Q8RT        0  172556680       96      107        4   \n",
       "124491  11/2/15  Z1F0QK05        0   19029120     4832        0        0   \n",
       "124492  11/2/15  Z1F0QL3N        0  226953408        0        0        0   \n",
       "124493  11/2/15  Z1F0QLC1        0   17572840        0        0        0   \n",
       "\n",
       "        metric5  metric6  metric7  metric8  metric9  \n",
       "124489       10   353705        8        8        0  \n",
       "124490       11   332792        0        0       13  \n",
       "124491       11   350410        0        0        0  \n",
       "124492       12   358980        0        0        0  \n",
       "124493       10   351431        0        0        0  "
      ]
     },
     "execution_count": 4,
     "metadata": {},
     "output_type": "execute_result"
    }
   ],
   "source": [
    "mydata.tail()"
   ]
  },
  {
   "cell_type": "code",
   "execution_count": 5,
   "id": "b25a8e24",
   "metadata": {},
   "outputs": [
    {
     "data": {
      "text/plain": [
       "(124494, 12)"
      ]
     },
     "execution_count": 5,
     "metadata": {},
     "output_type": "execute_result"
    }
   ],
   "source": [
    "mydata.shape"
   ]
  },
  {
   "cell_type": "code",
   "execution_count": 6,
   "id": "e0f2fb78",
   "metadata": {},
   "outputs": [],
   "source": [
    "mydata1 = mydata.pop('failure') # remove column failure and store it in mydata1\n",
    "mydata['failure']=mydata1       # add column failure as end column to mydata"
   ]
  },
  {
   "cell_type": "markdown",
   "id": "5f7eafd2",
   "metadata": {},
   "source": [
    "## Start EDA on dataset"
   ]
  },
  {
   "cell_type": "code",
   "execution_count": 7,
   "id": "88fa1ebc",
   "metadata": {},
   "outputs": [
    {
     "name": "stdout",
     "output_type": "stream",
     "text": [
      "<class 'pandas.core.frame.DataFrame'>\n",
      "RangeIndex: 124494 entries, 0 to 124493\n",
      "Data columns (total 12 columns):\n",
      " #   Column   Non-Null Count   Dtype \n",
      "---  ------   --------------   ----- \n",
      " 0   date     124494 non-null  object\n",
      " 1   device   124494 non-null  object\n",
      " 2   metric1  124494 non-null  int64 \n",
      " 3   metric2  124494 non-null  int64 \n",
      " 4   metric3  124494 non-null  int64 \n",
      " 5   metric4  124494 non-null  int64 \n",
      " 6   metric5  124494 non-null  int64 \n",
      " 7   metric6  124494 non-null  int64 \n",
      " 8   metric7  124494 non-null  int64 \n",
      " 9   metric8  124494 non-null  int64 \n",
      " 10  metric9  124494 non-null  int64 \n",
      " 11  failure  124494 non-null  int64 \n",
      "dtypes: int64(10), object(2)\n",
      "memory usage: 11.4+ MB\n"
     ]
    }
   ],
   "source": [
    "mydata.info()"
   ]
  },
  {
   "cell_type": "code",
   "execution_count": 8,
   "id": "6c88e01a",
   "metadata": {},
   "outputs": [],
   "source": [
    "#total no of records : 124494\n",
    "#Total no of columns : 12 columns\n",
    "# 10 columns with integer type and 2 columns with object type"
   ]
  },
  {
   "cell_type": "code",
   "execution_count": 9,
   "id": "21674967",
   "metadata": {},
   "outputs": [
    {
     "data": {
      "text/html": [
       "<div>\n",
       "<style scoped>\n",
       "    .dataframe tbody tr th:only-of-type {\n",
       "        vertical-align: middle;\n",
       "    }\n",
       "\n",
       "    .dataframe tbody tr th {\n",
       "        vertical-align: top;\n",
       "    }\n",
       "\n",
       "    .dataframe thead th {\n",
       "        text-align: right;\n",
       "    }\n",
       "</style>\n",
       "<table border=\"1\" class=\"dataframe\">\n",
       "  <thead>\n",
       "    <tr style=\"text-align: right;\">\n",
       "      <th></th>\n",
       "      <th>date</th>\n",
       "      <th>device</th>\n",
       "      <th>metric1</th>\n",
       "      <th>metric2</th>\n",
       "      <th>metric3</th>\n",
       "      <th>metric4</th>\n",
       "      <th>metric5</th>\n",
       "      <th>metric6</th>\n",
       "      <th>metric7</th>\n",
       "      <th>metric8</th>\n",
       "      <th>metric9</th>\n",
       "      <th>failure</th>\n",
       "    </tr>\n",
       "  </thead>\n",
       "  <tbody>\n",
       "    <tr>\n",
       "      <th>count</th>\n",
       "      <td>124494</td>\n",
       "      <td>124494</td>\n",
       "      <td>1.244940e+05</td>\n",
       "      <td>124494.000000</td>\n",
       "      <td>124494.000000</td>\n",
       "      <td>124494.000000</td>\n",
       "      <td>124494.000000</td>\n",
       "      <td>124494.000000</td>\n",
       "      <td>124494.000000</td>\n",
       "      <td>124494.000000</td>\n",
       "      <td>124494.000000</td>\n",
       "      <td>124494.000000</td>\n",
       "    </tr>\n",
       "    <tr>\n",
       "      <th>unique</th>\n",
       "      <td>304</td>\n",
       "      <td>1169</td>\n",
       "      <td>NaN</td>\n",
       "      <td>NaN</td>\n",
       "      <td>NaN</td>\n",
       "      <td>NaN</td>\n",
       "      <td>NaN</td>\n",
       "      <td>NaN</td>\n",
       "      <td>NaN</td>\n",
       "      <td>NaN</td>\n",
       "      <td>NaN</td>\n",
       "      <td>NaN</td>\n",
       "    </tr>\n",
       "    <tr>\n",
       "      <th>top</th>\n",
       "      <td>1/2/15</td>\n",
       "      <td>Z1F0QL3N</td>\n",
       "      <td>NaN</td>\n",
       "      <td>NaN</td>\n",
       "      <td>NaN</td>\n",
       "      <td>NaN</td>\n",
       "      <td>NaN</td>\n",
       "      <td>NaN</td>\n",
       "      <td>NaN</td>\n",
       "      <td>NaN</td>\n",
       "      <td>NaN</td>\n",
       "      <td>NaN</td>\n",
       "    </tr>\n",
       "    <tr>\n",
       "      <th>freq</th>\n",
       "      <td>1163</td>\n",
       "      <td>304</td>\n",
       "      <td>NaN</td>\n",
       "      <td>NaN</td>\n",
       "      <td>NaN</td>\n",
       "      <td>NaN</td>\n",
       "      <td>NaN</td>\n",
       "      <td>NaN</td>\n",
       "      <td>NaN</td>\n",
       "      <td>NaN</td>\n",
       "      <td>NaN</td>\n",
       "      <td>NaN</td>\n",
       "    </tr>\n",
       "    <tr>\n",
       "      <th>mean</th>\n",
       "      <td>NaN</td>\n",
       "      <td>NaN</td>\n",
       "      <td>1.223881e+08</td>\n",
       "      <td>159.484762</td>\n",
       "      <td>9.940455</td>\n",
       "      <td>1.741120</td>\n",
       "      <td>14.222669</td>\n",
       "      <td>260172.657726</td>\n",
       "      <td>0.292528</td>\n",
       "      <td>0.292528</td>\n",
       "      <td>12.451524</td>\n",
       "      <td>0.000851</td>\n",
       "    </tr>\n",
       "    <tr>\n",
       "      <th>std</th>\n",
       "      <td>NaN</td>\n",
       "      <td>NaN</td>\n",
       "      <td>7.045933e+07</td>\n",
       "      <td>2179.657730</td>\n",
       "      <td>185.747321</td>\n",
       "      <td>22.908507</td>\n",
       "      <td>15.943028</td>\n",
       "      <td>99151.078547</td>\n",
       "      <td>7.436924</td>\n",
       "      <td>7.436924</td>\n",
       "      <td>191.425623</td>\n",
       "      <td>0.029167</td>\n",
       "    </tr>\n",
       "    <tr>\n",
       "      <th>min</th>\n",
       "      <td>NaN</td>\n",
       "      <td>NaN</td>\n",
       "      <td>0.000000e+00</td>\n",
       "      <td>0.000000</td>\n",
       "      <td>0.000000</td>\n",
       "      <td>0.000000</td>\n",
       "      <td>1.000000</td>\n",
       "      <td>8.000000</td>\n",
       "      <td>0.000000</td>\n",
       "      <td>0.000000</td>\n",
       "      <td>0.000000</td>\n",
       "      <td>0.000000</td>\n",
       "    </tr>\n",
       "    <tr>\n",
       "      <th>25%</th>\n",
       "      <td>NaN</td>\n",
       "      <td>NaN</td>\n",
       "      <td>6.128476e+07</td>\n",
       "      <td>0.000000</td>\n",
       "      <td>0.000000</td>\n",
       "      <td>0.000000</td>\n",
       "      <td>8.000000</td>\n",
       "      <td>221452.000000</td>\n",
       "      <td>0.000000</td>\n",
       "      <td>0.000000</td>\n",
       "      <td>0.000000</td>\n",
       "      <td>0.000000</td>\n",
       "    </tr>\n",
       "    <tr>\n",
       "      <th>50%</th>\n",
       "      <td>NaN</td>\n",
       "      <td>NaN</td>\n",
       "      <td>1.227974e+08</td>\n",
       "      <td>0.000000</td>\n",
       "      <td>0.000000</td>\n",
       "      <td>0.000000</td>\n",
       "      <td>10.000000</td>\n",
       "      <td>249799.500000</td>\n",
       "      <td>0.000000</td>\n",
       "      <td>0.000000</td>\n",
       "      <td>0.000000</td>\n",
       "      <td>0.000000</td>\n",
       "    </tr>\n",
       "    <tr>\n",
       "      <th>75%</th>\n",
       "      <td>NaN</td>\n",
       "      <td>NaN</td>\n",
       "      <td>1.833096e+08</td>\n",
       "      <td>0.000000</td>\n",
       "      <td>0.000000</td>\n",
       "      <td>0.000000</td>\n",
       "      <td>12.000000</td>\n",
       "      <td>310266.000000</td>\n",
       "      <td>0.000000</td>\n",
       "      <td>0.000000</td>\n",
       "      <td>0.000000</td>\n",
       "      <td>0.000000</td>\n",
       "    </tr>\n",
       "    <tr>\n",
       "      <th>max</th>\n",
       "      <td>NaN</td>\n",
       "      <td>NaN</td>\n",
       "      <td>2.441405e+08</td>\n",
       "      <td>64968.000000</td>\n",
       "      <td>24929.000000</td>\n",
       "      <td>1666.000000</td>\n",
       "      <td>98.000000</td>\n",
       "      <td>689161.000000</td>\n",
       "      <td>832.000000</td>\n",
       "      <td>832.000000</td>\n",
       "      <td>18701.000000</td>\n",
       "      <td>1.000000</td>\n",
       "    </tr>\n",
       "  </tbody>\n",
       "</table>\n",
       "</div>"
      ],
      "text/plain": [
       "          date    device       metric1        metric2        metric3  \\\n",
       "count   124494    124494  1.244940e+05  124494.000000  124494.000000   \n",
       "unique     304      1169           NaN            NaN            NaN   \n",
       "top     1/2/15  Z1F0QL3N           NaN            NaN            NaN   \n",
       "freq      1163       304           NaN            NaN            NaN   \n",
       "mean       NaN       NaN  1.223881e+08     159.484762       9.940455   \n",
       "std        NaN       NaN  7.045933e+07    2179.657730     185.747321   \n",
       "min        NaN       NaN  0.000000e+00       0.000000       0.000000   \n",
       "25%        NaN       NaN  6.128476e+07       0.000000       0.000000   \n",
       "50%        NaN       NaN  1.227974e+08       0.000000       0.000000   \n",
       "75%        NaN       NaN  1.833096e+08       0.000000       0.000000   \n",
       "max        NaN       NaN  2.441405e+08   64968.000000   24929.000000   \n",
       "\n",
       "              metric4        metric5        metric6        metric7  \\\n",
       "count   124494.000000  124494.000000  124494.000000  124494.000000   \n",
       "unique            NaN            NaN            NaN            NaN   \n",
       "top               NaN            NaN            NaN            NaN   \n",
       "freq              NaN            NaN            NaN            NaN   \n",
       "mean         1.741120      14.222669  260172.657726       0.292528   \n",
       "std         22.908507      15.943028   99151.078547       7.436924   \n",
       "min          0.000000       1.000000       8.000000       0.000000   \n",
       "25%          0.000000       8.000000  221452.000000       0.000000   \n",
       "50%          0.000000      10.000000  249799.500000       0.000000   \n",
       "75%          0.000000      12.000000  310266.000000       0.000000   \n",
       "max       1666.000000      98.000000  689161.000000     832.000000   \n",
       "\n",
       "              metric8        metric9        failure  \n",
       "count   124494.000000  124494.000000  124494.000000  \n",
       "unique            NaN            NaN            NaN  \n",
       "top               NaN            NaN            NaN  \n",
       "freq              NaN            NaN            NaN  \n",
       "mean         0.292528      12.451524       0.000851  \n",
       "std          7.436924     191.425623       0.029167  \n",
       "min          0.000000       0.000000       0.000000  \n",
       "25%          0.000000       0.000000       0.000000  \n",
       "50%          0.000000       0.000000       0.000000  \n",
       "75%          0.000000       0.000000       0.000000  \n",
       "max        832.000000   18701.000000       1.000000  "
      ]
     },
     "execution_count": 9,
     "metadata": {},
     "output_type": "execute_result"
    }
   ],
   "source": [
    "mydata.describe(include='all')"
   ]
  },
  {
   "cell_type": "code",
   "execution_count": 10,
   "id": "4239f080",
   "metadata": {},
   "outputs": [
    {
     "data": {
      "text/plain": [
       "Index(['date', 'device', 'metric1', 'metric2', 'metric3', 'metric4', 'metric5',\n",
       "       'metric6', 'metric7', 'metric8', 'metric9', 'failure'],\n",
       "      dtype='object')"
      ]
     },
     "execution_count": 10,
     "metadata": {},
     "output_type": "execute_result"
    }
   ],
   "source": [
    "mydata.columns"
   ]
  },
  {
   "cell_type": "code",
   "execution_count": 11,
   "id": "d41bc500",
   "metadata": {},
   "outputs": [],
   "source": [
    "#Check for  any null values in dataset"
   ]
  },
  {
   "cell_type": "code",
   "execution_count": 12,
   "id": "64b8f2d8",
   "metadata": {},
   "outputs": [
    {
     "data": {
      "text/plain": [
       "date       0\n",
       "device     0\n",
       "metric1    0\n",
       "metric2    0\n",
       "metric3    0\n",
       "metric4    0\n",
       "metric5    0\n",
       "metric6    0\n",
       "metric7    0\n",
       "metric8    0\n",
       "metric9    0\n",
       "failure    0\n",
       "dtype: int64"
      ]
     },
     "execution_count": 12,
     "metadata": {},
     "output_type": "execute_result"
    }
   ],
   "source": [
    "mydata.isnull().sum()"
   ]
  },
  {
   "cell_type": "code",
   "execution_count": 13,
   "id": "7401a722",
   "metadata": {},
   "outputs": [],
   "source": [
    "#By looking at target column values, the dataset given is imbalanced"
   ]
  },
  {
   "cell_type": "code",
   "execution_count": 14,
   "id": "6b2dadd8",
   "metadata": {},
   "outputs": [
    {
     "data": {
      "text/html": [
       "<div>\n",
       "<style scoped>\n",
       "    .dataframe tbody tr th:only-of-type {\n",
       "        vertical-align: middle;\n",
       "    }\n",
       "\n",
       "    .dataframe tbody tr th {\n",
       "        vertical-align: top;\n",
       "    }\n",
       "\n",
       "    .dataframe thead th {\n",
       "        text-align: right;\n",
       "    }\n",
       "</style>\n",
       "<table border=\"1\" class=\"dataframe\">\n",
       "  <thead>\n",
       "    <tr style=\"text-align: right;\">\n",
       "      <th></th>\n",
       "      <th>date</th>\n",
       "      <th>device</th>\n",
       "      <th>metric1</th>\n",
       "      <th>metric2</th>\n",
       "      <th>metric3</th>\n",
       "      <th>metric4</th>\n",
       "      <th>metric5</th>\n",
       "      <th>metric6</th>\n",
       "      <th>metric7</th>\n",
       "      <th>metric8</th>\n",
       "      <th>metric9</th>\n",
       "    </tr>\n",
       "    <tr>\n",
       "      <th>failure</th>\n",
       "      <th></th>\n",
       "      <th></th>\n",
       "      <th></th>\n",
       "      <th></th>\n",
       "      <th></th>\n",
       "      <th></th>\n",
       "      <th></th>\n",
       "      <th></th>\n",
       "      <th></th>\n",
       "      <th></th>\n",
       "      <th></th>\n",
       "    </tr>\n",
       "  </thead>\n",
       "  <tbody>\n",
       "    <tr>\n",
       "      <th>0</th>\n",
       "      <td>124388</td>\n",
       "      <td>124388</td>\n",
       "      <td>124388</td>\n",
       "      <td>124388</td>\n",
       "      <td>124388</td>\n",
       "      <td>124388</td>\n",
       "      <td>124388</td>\n",
       "      <td>124388</td>\n",
       "      <td>124388</td>\n",
       "      <td>124388</td>\n",
       "      <td>124388</td>\n",
       "    </tr>\n",
       "    <tr>\n",
       "      <th>1</th>\n",
       "      <td>106</td>\n",
       "      <td>106</td>\n",
       "      <td>106</td>\n",
       "      <td>106</td>\n",
       "      <td>106</td>\n",
       "      <td>106</td>\n",
       "      <td>106</td>\n",
       "      <td>106</td>\n",
       "      <td>106</td>\n",
       "      <td>106</td>\n",
       "      <td>106</td>\n",
       "    </tr>\n",
       "  </tbody>\n",
       "</table>\n",
       "</div>"
      ],
      "text/plain": [
       "           date  device  metric1  metric2  metric3  metric4  metric5  metric6  \\\n",
       "failure                                                                         \n",
       "0        124388  124388   124388   124388   124388   124388   124388   124388   \n",
       "1           106     106      106      106      106      106      106      106   \n",
       "\n",
       "         metric7  metric8  metric9  \n",
       "failure                             \n",
       "0         124388   124388   124388  \n",
       "1            106      106      106  "
      ]
     },
     "execution_count": 14,
     "metadata": {},
     "output_type": "execute_result"
    }
   ],
   "source": [
    "mydata.groupby([\"failure\"]).count()"
   ]
  },
  {
   "cell_type": "code",
   "execution_count": 15,
   "id": "fdb867fd",
   "metadata": {},
   "outputs": [
    {
     "name": "stdout",
     "output_type": "stream",
     "text": [
      "Non-Failures 99.91 % of the dataset\n",
      "Failures 0.09 % of the dataset\n"
     ]
    }
   ],
   "source": [
    "# The classes are heavily skewed so need to solve this issue.\n",
    "print('Non-Failures', round(mydata['failure'].value_counts()[0]/len(mydata) * 100,2), '% of the dataset')\n",
    "print('Failures', round(mydata['failure'].value_counts()[1]/len(mydata) * 100,2), '% of the dataset')"
   ]
  },
  {
   "cell_type": "code",
   "execution_count": 16,
   "id": "1795e220",
   "metadata": {},
   "outputs": [],
   "source": [
    "#Its clearly  imbalanced dataset.\n",
    "#Most of the recrods are non-failures\n",
    "#If this dataframe is used as the base for our predictive models, the analysis we might get a lot of errors and \n",
    "#our algorithms will probably overfit since it will \"assume\" that most records are non failure."
   ]
  },
  {
   "cell_type": "code",
   "execution_count": 17,
   "id": "e56c17f0",
   "metadata": {},
   "outputs": [
    {
     "data": {
      "text/plain": [
       "Text(0.5, 1.0, 'failure Distributions \\n (0: Non-Failure || 1: Failure)')"
      ]
     },
     "execution_count": 17,
     "metadata": {},
     "output_type": "execute_result"
    },
    {
     "data": {
      "image/png": "[encoded data removed]",
      "text/plain": [
       "<Figure size 432x288 with 1 Axes>"
      ]
     },
     "metadata": {
      "needs_background": "light"
     },
     "output_type": "display_data"
    }
   ],
   "source": [
    "colors = [\"#0101DF\", \"#DF0101\"]\n",
    "sns.countplot(x='failure', data=mydata, palette=colors)\n",
    "plt.title('failure Distributions \\n (0: Non-Failure || 1: Failure)', fontsize=14)"
   ]
  },
  {
   "cell_type": "code",
   "execution_count": 18,
   "id": "6312a52c",
   "metadata": {},
   "outputs": [],
   "source": [
    "#convert the non-numberical values to categorical values\n",
    "for feature in mydata.columns: # Loop through all columns in the dataframe\n",
    "    if mydata[feature].dtype == 'object': # Only apply for columns with categorical strings\n",
    "        mydata[feature] = pd.Categorical(mydata[feature]).codes # Replace strings with an integer"
   ]
  },
  {
   "cell_type": "code",
   "execution_count": 19,
   "id": "7d1a0b5d",
   "metadata": {},
   "outputs": [
    {
     "data": {
      "text/html": [
       "<div>\n",
       "<style scoped>\n",
       "    .dataframe tbody tr th:only-of-type {\n",
       "        vertical-align: middle;\n",
       "    }\n",
       "\n",
       "    .dataframe tbody tr th {\n",
       "        vertical-align: top;\n",
       "    }\n",
       "\n",
       "    .dataframe thead th {\n",
       "        text-align: right;\n",
       "    }\n",
       "</style>\n",
       "<table border=\"1\" class=\"dataframe\">\n",
       "  <thead>\n",
       "    <tr style=\"text-align: right;\">\n",
       "      <th></th>\n",
       "      <th>date</th>\n",
       "      <th>device</th>\n",
       "      <th>metric1</th>\n",
       "      <th>metric2</th>\n",
       "      <th>metric3</th>\n",
       "      <th>metric4</th>\n",
       "      <th>metric5</th>\n",
       "      <th>metric6</th>\n",
       "      <th>metric7</th>\n",
       "      <th>metric8</th>\n",
       "      <th>metric9</th>\n",
       "      <th>failure</th>\n",
       "    </tr>\n",
       "  </thead>\n",
       "  <tbody>\n",
       "    <tr>\n",
       "      <th>0</th>\n",
       "      <td>0</td>\n",
       "      <td>0</td>\n",
       "      <td>215630672</td>\n",
       "      <td>56</td>\n",
       "      <td>0</td>\n",
       "      <td>52</td>\n",
       "      <td>6</td>\n",
       "      <td>407438</td>\n",
       "      <td>0</td>\n",
       "      <td>0</td>\n",
       "      <td>7</td>\n",
       "      <td>0</td>\n",
       "    </tr>\n",
       "    <tr>\n",
       "      <th>1</th>\n",
       "      <td>0</td>\n",
       "      <td>2</td>\n",
       "      <td>61370680</td>\n",
       "      <td>0</td>\n",
       "      <td>3</td>\n",
       "      <td>0</td>\n",
       "      <td>6</td>\n",
       "      <td>403174</td>\n",
       "      <td>0</td>\n",
       "      <td>0</td>\n",
       "      <td>0</td>\n",
       "      <td>0</td>\n",
       "    </tr>\n",
       "    <tr>\n",
       "      <th>2</th>\n",
       "      <td>0</td>\n",
       "      <td>3</td>\n",
       "      <td>173295968</td>\n",
       "      <td>0</td>\n",
       "      <td>0</td>\n",
       "      <td>0</td>\n",
       "      <td>12</td>\n",
       "      <td>237394</td>\n",
       "      <td>0</td>\n",
       "      <td>0</td>\n",
       "      <td>0</td>\n",
       "      <td>0</td>\n",
       "    </tr>\n",
       "    <tr>\n",
       "      <th>3</th>\n",
       "      <td>0</td>\n",
       "      <td>4</td>\n",
       "      <td>79694024</td>\n",
       "      <td>0</td>\n",
       "      <td>0</td>\n",
       "      <td>0</td>\n",
       "      <td>6</td>\n",
       "      <td>410186</td>\n",
       "      <td>0</td>\n",
       "      <td>0</td>\n",
       "      <td>0</td>\n",
       "      <td>0</td>\n",
       "    </tr>\n",
       "    <tr>\n",
       "      <th>4</th>\n",
       "      <td>0</td>\n",
       "      <td>5</td>\n",
       "      <td>135970480</td>\n",
       "      <td>0</td>\n",
       "      <td>0</td>\n",
       "      <td>0</td>\n",
       "      <td>15</td>\n",
       "      <td>313173</td>\n",
       "      <td>0</td>\n",
       "      <td>0</td>\n",
       "      <td>3</td>\n",
       "      <td>0</td>\n",
       "    </tr>\n",
       "  </tbody>\n",
       "</table>\n",
       "</div>"
      ],
      "text/plain": [
       "   date  device    metric1  metric2  metric3  metric4  metric5  metric6  \\\n",
       "0     0       0  215630672       56        0       52        6   407438   \n",
       "1     0       2   61370680        0        3        0        6   403174   \n",
       "2     0       3  173295968        0        0        0       12   237394   \n",
       "3     0       4   79694024        0        0        0        6   410186   \n",
       "4     0       5  135970480        0        0        0       15   313173   \n",
       "\n",
       "   metric7  metric8  metric9  failure  \n",
       "0        0        0        7        0  \n",
       "1        0        0        0        0  \n",
       "2        0        0        0        0  \n",
       "3        0        0        0        0  \n",
       "4        0        0        3        0  "
      ]
     },
     "execution_count": 19,
     "metadata": {},
     "output_type": "execute_result"
    }
   ],
   "source": [
    "mydata.head()"
   ]
  },
  {
   "cell_type": "code",
   "execution_count": 20,
   "id": "be8d2325",
   "metadata": {},
   "outputs": [
    {
     "data": {
      "text/html": [
       "<div>\n",
       "<style scoped>\n",
       "    .dataframe tbody tr th:only-of-type {\n",
       "        vertical-align: middle;\n",
       "    }\n",
       "\n",
       "    .dataframe tbody tr th {\n",
       "        vertical-align: top;\n",
       "    }\n",
       "\n",
       "    .dataframe thead th {\n",
       "        text-align: right;\n",
       "    }\n",
       "</style>\n",
       "<table border=\"1\" class=\"dataframe\">\n",
       "  <thead>\n",
       "    <tr style=\"text-align: right;\">\n",
       "      <th></th>\n",
       "      <th>date</th>\n",
       "      <th>device</th>\n",
       "      <th>metric1</th>\n",
       "      <th>metric2</th>\n",
       "      <th>metric3</th>\n",
       "      <th>metric4</th>\n",
       "      <th>metric5</th>\n",
       "      <th>metric6</th>\n",
       "      <th>metric7</th>\n",
       "      <th>metric8</th>\n",
       "      <th>metric9</th>\n",
       "      <th>failure</th>\n",
       "    </tr>\n",
       "  </thead>\n",
       "  <tbody>\n",
       "    <tr>\n",
       "      <th>124489</th>\n",
       "      <td>61</td>\n",
       "      <td>1045</td>\n",
       "      <td>18310224</td>\n",
       "      <td>0</td>\n",
       "      <td>0</td>\n",
       "      <td>0</td>\n",
       "      <td>10</td>\n",
       "      <td>353705</td>\n",
       "      <td>8</td>\n",
       "      <td>8</td>\n",
       "      <td>0</td>\n",
       "      <td>0</td>\n",
       "    </tr>\n",
       "    <tr>\n",
       "      <th>124490</th>\n",
       "      <td>61</td>\n",
       "      <td>1068</td>\n",
       "      <td>172556680</td>\n",
       "      <td>96</td>\n",
       "      <td>107</td>\n",
       "      <td>4</td>\n",
       "      <td>11</td>\n",
       "      <td>332792</td>\n",
       "      <td>0</td>\n",
       "      <td>0</td>\n",
       "      <td>13</td>\n",
       "      <td>0</td>\n",
       "    </tr>\n",
       "    <tr>\n",
       "      <th>124491</th>\n",
       "      <td>61</td>\n",
       "      <td>1075</td>\n",
       "      <td>19029120</td>\n",
       "      <td>4832</td>\n",
       "      <td>0</td>\n",
       "      <td>0</td>\n",
       "      <td>11</td>\n",
       "      <td>350410</td>\n",
       "      <td>0</td>\n",
       "      <td>0</td>\n",
       "      <td>0</td>\n",
       "      <td>0</td>\n",
       "    </tr>\n",
       "    <tr>\n",
       "      <th>124492</th>\n",
       "      <td>61</td>\n",
       "      <td>1081</td>\n",
       "      <td>226953408</td>\n",
       "      <td>0</td>\n",
       "      <td>0</td>\n",
       "      <td>0</td>\n",
       "      <td>12</td>\n",
       "      <td>358980</td>\n",
       "      <td>0</td>\n",
       "      <td>0</td>\n",
       "      <td>0</td>\n",
       "      <td>0</td>\n",
       "    </tr>\n",
       "    <tr>\n",
       "      <th>124493</th>\n",
       "      <td>61</td>\n",
       "      <td>1082</td>\n",
       "      <td>17572840</td>\n",
       "      <td>0</td>\n",
       "      <td>0</td>\n",
       "      <td>0</td>\n",
       "      <td>10</td>\n",
       "      <td>351431</td>\n",
       "      <td>0</td>\n",
       "      <td>0</td>\n",
       "      <td>0</td>\n",
       "      <td>0</td>\n",
       "    </tr>\n",
       "  </tbody>\n",
       "</table>\n",
       "</div>"
      ],
      "text/plain": [
       "        date  device    metric1  metric2  metric3  metric4  metric5  metric6  \\\n",
       "124489    61    1045   18310224        0        0        0       10   353705   \n",
       "124490    61    1068  172556680       96      107        4       11   332792   \n",
       "124491    61    1075   19029120     4832        0        0       11   350410   \n",
       "124492    61    1081  226953408        0        0        0       12   358980   \n",
       "124493    61    1082   17572840        0        0        0       10   351431   \n",
       "\n",
       "        metric7  metric8  metric9  failure  \n",
       "124489        8        8        0        0  \n",
       "124490        0        0       13        0  \n",
       "124491        0        0        0        0  \n",
       "124492        0        0        0        0  \n",
       "124493        0        0        0        0  "
      ]
     },
     "execution_count": 20,
     "metadata": {},
     "output_type": "execute_result"
    }
   ],
   "source": [
    "mydata.tail()"
   ]
  },
  {
   "cell_type": "code",
   "execution_count": 21,
   "id": "caa15db2",
   "metadata": {},
   "outputs": [
    {
     "data": {
      "text/html": [
       "<div>\n",
       "<style scoped>\n",
       "    .dataframe tbody tr th:only-of-type {\n",
       "        vertical-align: middle;\n",
       "    }\n",
       "\n",
       "    .dataframe tbody tr th {\n",
       "        vertical-align: top;\n",
       "    }\n",
       "\n",
       "    .dataframe thead th {\n",
       "        text-align: right;\n",
       "    }\n",
       "</style>\n",
       "<table border=\"1\" class=\"dataframe\">\n",
       "  <thead>\n",
       "    <tr style=\"text-align: right;\">\n",
       "      <th></th>\n",
       "      <th>count</th>\n",
       "      <th>mean</th>\n",
       "      <th>std</th>\n",
       "      <th>min</th>\n",
       "      <th>25%</th>\n",
       "      <th>50%</th>\n",
       "      <th>75%</th>\n",
       "      <th>max</th>\n",
       "    </tr>\n",
       "  </thead>\n",
       "  <tbody>\n",
       "    <tr>\n",
       "      <th>date</th>\n",
       "      <td>124494.00000</td>\n",
       "      <td>124.21836</td>\n",
       "      <td>81.94213</td>\n",
       "      <td>0.00000</td>\n",
       "      <td>66.00000</td>\n",
       "      <td>112.00000</td>\n",
       "      <td>189.00000</td>\n",
       "      <td>303.00000</td>\n",
       "    </tr>\n",
       "    <tr>\n",
       "      <th>device</th>\n",
       "      <td>124494.00000</td>\n",
       "      <td>622.37919</td>\n",
       "      <td>327.17780</td>\n",
       "      <td>0.00000</td>\n",
       "      <td>378.00000</td>\n",
       "      <td>602.00000</td>\n",
       "      <td>917.00000</td>\n",
       "      <td>1168.00000</td>\n",
       "    </tr>\n",
       "    <tr>\n",
       "      <th>metric1</th>\n",
       "      <td>124494.00000</td>\n",
       "      <td>122388103.24212</td>\n",
       "      <td>70459334.21636</td>\n",
       "      <td>0.00000</td>\n",
       "      <td>61284762.00000</td>\n",
       "      <td>122797388.00000</td>\n",
       "      <td>183309640.00000</td>\n",
       "      <td>244140480.00000</td>\n",
       "    </tr>\n",
       "    <tr>\n",
       "      <th>metric2</th>\n",
       "      <td>124494.00000</td>\n",
       "      <td>159.48476</td>\n",
       "      <td>2179.65773</td>\n",
       "      <td>0.00000</td>\n",
       "      <td>0.00000</td>\n",
       "      <td>0.00000</td>\n",
       "      <td>0.00000</td>\n",
       "      <td>64968.00000</td>\n",
       "    </tr>\n",
       "    <tr>\n",
       "      <th>metric3</th>\n",
       "      <td>124494.00000</td>\n",
       "      <td>9.94045</td>\n",
       "      <td>185.74732</td>\n",
       "      <td>0.00000</td>\n",
       "      <td>0.00000</td>\n",
       "      <td>0.00000</td>\n",
       "      <td>0.00000</td>\n",
       "      <td>24929.00000</td>\n",
       "    </tr>\n",
       "    <tr>\n",
       "      <th>metric4</th>\n",
       "      <td>124494.00000</td>\n",
       "      <td>1.74112</td>\n",
       "      <td>22.90851</td>\n",
       "      <td>0.00000</td>\n",
       "      <td>0.00000</td>\n",
       "      <td>0.00000</td>\n",
       "      <td>0.00000</td>\n",
       "      <td>1666.00000</td>\n",
       "    </tr>\n",
       "    <tr>\n",
       "      <th>metric5</th>\n",
       "      <td>124494.00000</td>\n",
       "      <td>14.22267</td>\n",
       "      <td>15.94303</td>\n",
       "      <td>1.00000</td>\n",
       "      <td>8.00000</td>\n",
       "      <td>10.00000</td>\n",
       "      <td>12.00000</td>\n",
       "      <td>98.00000</td>\n",
       "    </tr>\n",
       "    <tr>\n",
       "      <th>metric6</th>\n",
       "      <td>124494.00000</td>\n",
       "      <td>260172.65773</td>\n",
       "      <td>99151.07855</td>\n",
       "      <td>8.00000</td>\n",
       "      <td>221452.00000</td>\n",
       "      <td>249799.50000</td>\n",
       "      <td>310266.00000</td>\n",
       "      <td>689161.00000</td>\n",
       "    </tr>\n",
       "    <tr>\n",
       "      <th>metric7</th>\n",
       "      <td>124494.00000</td>\n",
       "      <td>0.29253</td>\n",
       "      <td>7.43692</td>\n",
       "      <td>0.00000</td>\n",
       "      <td>0.00000</td>\n",
       "      <td>0.00000</td>\n",
       "      <td>0.00000</td>\n",
       "      <td>832.00000</td>\n",
       "    </tr>\n",
       "    <tr>\n",
       "      <th>metric8</th>\n",
       "      <td>124494.00000</td>\n",
       "      <td>0.29253</td>\n",
       "      <td>7.43692</td>\n",
       "      <td>0.00000</td>\n",
       "      <td>0.00000</td>\n",
       "      <td>0.00000</td>\n",
       "      <td>0.00000</td>\n",
       "      <td>832.00000</td>\n",
       "    </tr>\n",
       "    <tr>\n",
       "      <th>metric9</th>\n",
       "      <td>124494.00000</td>\n",
       "      <td>12.45152</td>\n",
       "      <td>191.42562</td>\n",
       "      <td>0.00000</td>\n",
       "      <td>0.00000</td>\n",
       "      <td>0.00000</td>\n",
       "      <td>0.00000</td>\n",
       "      <td>18701.00000</td>\n",
       "    </tr>\n",
       "    <tr>\n",
       "      <th>failure</th>\n",
       "      <td>124494.00000</td>\n",
       "      <td>0.00085</td>\n",
       "      <td>0.02917</td>\n",
       "      <td>0.00000</td>\n",
       "      <td>0.00000</td>\n",
       "      <td>0.00000</td>\n",
       "      <td>0.00000</td>\n",
       "      <td>1.00000</td>\n",
       "    </tr>\n",
       "  </tbody>\n",
       "</table>\n",
       "</div>"
      ],
      "text/plain": [
       "                count             mean             std      min  \\\n",
       "date     124494.00000        124.21836        81.94213  0.00000   \n",
       "device   124494.00000        622.37919       327.17780  0.00000   \n",
       "metric1  124494.00000  122388103.24212  70459334.21636  0.00000   \n",
       "metric2  124494.00000        159.48476      2179.65773  0.00000   \n",
       "metric3  124494.00000          9.94045       185.74732  0.00000   \n",
       "metric4  124494.00000          1.74112        22.90851  0.00000   \n",
       "metric5  124494.00000         14.22267        15.94303  1.00000   \n",
       "metric6  124494.00000     260172.65773     99151.07855  8.00000   \n",
       "metric7  124494.00000          0.29253         7.43692  0.00000   \n",
       "metric8  124494.00000          0.29253         7.43692  0.00000   \n",
       "metric9  124494.00000         12.45152       191.42562  0.00000   \n",
       "failure  124494.00000          0.00085         0.02917  0.00000   \n",
       "\n",
       "                    25%              50%              75%              max  \n",
       "date           66.00000        112.00000        189.00000        303.00000  \n",
       "device        378.00000        602.00000        917.00000       1168.00000  \n",
       "metric1  61284762.00000  122797388.00000  183309640.00000  244140480.00000  \n",
       "metric2         0.00000          0.00000          0.00000      64968.00000  \n",
       "metric3         0.00000          0.00000          0.00000      24929.00000  \n",
       "metric4         0.00000          0.00000          0.00000       1666.00000  \n",
       "metric5         8.00000         10.00000         12.00000         98.00000  \n",
       "metric6    221452.00000     249799.50000     310266.00000     689161.00000  \n",
       "metric7         0.00000          0.00000          0.00000        832.00000  \n",
       "metric8         0.00000          0.00000          0.00000        832.00000  \n",
       "metric9         0.00000          0.00000          0.00000      18701.00000  \n",
       "failure         0.00000          0.00000          0.00000          1.00000  "
      ]
     },
     "execution_count": 21,
     "metadata": {},
     "output_type": "execute_result"
    }
   ],
   "source": [
    "mydata.describe().apply(lambda s: s.apply('{0:.5f}'.format)).transpose()"
   ]
  },
  {
   "cell_type": "code",
   "execution_count": 22,
   "id": "e95f610a",
   "metadata": {},
   "outputs": [],
   "source": [
    "# After studying the mean, median & std for all the attributes, \n",
    "# we can see for date, device, metric1, metric5, metric6 , metric7 metric8 the mean & median are close \n",
    "# Find the correlation between the attributes in the dataset.abs"
   ]
  },
  {
   "cell_type": "code",
   "execution_count": 23,
   "id": "66eba229",
   "metadata": {},
   "outputs": [
    {
     "data": {
      "text/html": [
       "<div>\n",
       "<style scoped>\n",
       "    .dataframe tbody tr th:only-of-type {\n",
       "        vertical-align: middle;\n",
       "    }\n",
       "\n",
       "    .dataframe tbody tr th {\n",
       "        vertical-align: top;\n",
       "    }\n",
       "\n",
       "    .dataframe thead th {\n",
       "        text-align: right;\n",
       "    }\n",
       "</style>\n",
       "<table border=\"1\" class=\"dataframe\">\n",
       "  <thead>\n",
       "    <tr style=\"text-align: right;\">\n",
       "      <th></th>\n",
       "      <th>date</th>\n",
       "      <th>device</th>\n",
       "      <th>metric1</th>\n",
       "      <th>metric2</th>\n",
       "      <th>metric3</th>\n",
       "      <th>metric4</th>\n",
       "      <th>metric5</th>\n",
       "      <th>metric6</th>\n",
       "      <th>metric7</th>\n",
       "      <th>metric8</th>\n",
       "      <th>metric9</th>\n",
       "      <th>failure</th>\n",
       "    </tr>\n",
       "  </thead>\n",
       "  <tbody>\n",
       "    <tr>\n",
       "      <th>date</th>\n",
       "      <td>1.000000</td>\n",
       "      <td>0.024541</td>\n",
       "      <td>-0.003385</td>\n",
       "      <td>-0.038476</td>\n",
       "      <td>-0.000255</td>\n",
       "      <td>-0.003069</td>\n",
       "      <td>0.013847</td>\n",
       "      <td>0.095628</td>\n",
       "      <td>0.003468</td>\n",
       "      <td>0.003468</td>\n",
       "      <td>-0.023138</td>\n",
       "      <td>0.000157</td>\n",
       "    </tr>\n",
       "    <tr>\n",
       "      <th>device</th>\n",
       "      <td>0.024541</td>\n",
       "      <td>1.000000</td>\n",
       "      <td>-0.002224</td>\n",
       "      <td>-0.004132</td>\n",
       "      <td>-0.041057</td>\n",
       "      <td>0.001570</td>\n",
       "      <td>-0.027156</td>\n",
       "      <td>-0.122077</td>\n",
       "      <td>-0.001385</td>\n",
       "      <td>-0.001385</td>\n",
       "      <td>-0.019503</td>\n",
       "      <td>-0.002702</td>\n",
       "    </tr>\n",
       "    <tr>\n",
       "      <th>metric1</th>\n",
       "      <td>-0.003385</td>\n",
       "      <td>-0.002224</td>\n",
       "      <td>1.000000</td>\n",
       "      <td>-0.004250</td>\n",
       "      <td>0.003701</td>\n",
       "      <td>0.001836</td>\n",
       "      <td>-0.003376</td>\n",
       "      <td>-0.001522</td>\n",
       "      <td>0.000151</td>\n",
       "      <td>0.000151</td>\n",
       "      <td>0.001121</td>\n",
       "      <td>0.001983</td>\n",
       "    </tr>\n",
       "    <tr>\n",
       "      <th>metric2</th>\n",
       "      <td>-0.038476</td>\n",
       "      <td>-0.004132</td>\n",
       "      <td>-0.004250</td>\n",
       "      <td>1.000000</td>\n",
       "      <td>-0.002617</td>\n",
       "      <td>0.146593</td>\n",
       "      <td>-0.013999</td>\n",
       "      <td>-0.026350</td>\n",
       "      <td>0.141367</td>\n",
       "      <td>0.141367</td>\n",
       "      <td>-0.002736</td>\n",
       "      <td>0.052902</td>\n",
       "    </tr>\n",
       "    <tr>\n",
       "      <th>metric3</th>\n",
       "      <td>-0.000255</td>\n",
       "      <td>-0.041057</td>\n",
       "      <td>0.003701</td>\n",
       "      <td>-0.002617</td>\n",
       "      <td>1.000000</td>\n",
       "      <td>0.097452</td>\n",
       "      <td>-0.006696</td>\n",
       "      <td>0.009027</td>\n",
       "      <td>-0.001884</td>\n",
       "      <td>-0.001884</td>\n",
       "      <td>0.532366</td>\n",
       "      <td>-0.000948</td>\n",
       "    </tr>\n",
       "    <tr>\n",
       "      <th>metric4</th>\n",
       "      <td>-0.003069</td>\n",
       "      <td>0.001570</td>\n",
       "      <td>0.001836</td>\n",
       "      <td>0.146593</td>\n",
       "      <td>0.097452</td>\n",
       "      <td>1.000000</td>\n",
       "      <td>-0.009773</td>\n",
       "      <td>0.024870</td>\n",
       "      <td>0.045631</td>\n",
       "      <td>0.045631</td>\n",
       "      <td>0.036069</td>\n",
       "      <td>0.067398</td>\n",
       "    </tr>\n",
       "    <tr>\n",
       "      <th>metric5</th>\n",
       "      <td>0.013847</td>\n",
       "      <td>-0.027156</td>\n",
       "      <td>-0.003376</td>\n",
       "      <td>-0.013999</td>\n",
       "      <td>-0.006696</td>\n",
       "      <td>-0.009773</td>\n",
       "      <td>1.000000</td>\n",
       "      <td>-0.017049</td>\n",
       "      <td>-0.009384</td>\n",
       "      <td>-0.009384</td>\n",
       "      <td>0.005949</td>\n",
       "      <td>0.002270</td>\n",
       "    </tr>\n",
       "    <tr>\n",
       "      <th>metric6</th>\n",
       "      <td>0.095628</td>\n",
       "      <td>-0.122077</td>\n",
       "      <td>-0.001522</td>\n",
       "      <td>-0.026350</td>\n",
       "      <td>0.009027</td>\n",
       "      <td>0.024870</td>\n",
       "      <td>-0.017049</td>\n",
       "      <td>1.000000</td>\n",
       "      <td>-0.012207</td>\n",
       "      <td>-0.012207</td>\n",
       "      <td>0.021152</td>\n",
       "      <td>-0.000550</td>\n",
       "    </tr>\n",
       "    <tr>\n",
       "      <th>metric7</th>\n",
       "      <td>0.003468</td>\n",
       "      <td>-0.001385</td>\n",
       "      <td>0.000151</td>\n",
       "      <td>0.141367</td>\n",
       "      <td>-0.001884</td>\n",
       "      <td>0.045631</td>\n",
       "      <td>-0.009384</td>\n",
       "      <td>-0.012207</td>\n",
       "      <td>1.000000</td>\n",
       "      <td>1.000000</td>\n",
       "      <td>0.006861</td>\n",
       "      <td>0.119055</td>\n",
       "    </tr>\n",
       "    <tr>\n",
       "      <th>metric8</th>\n",
       "      <td>0.003468</td>\n",
       "      <td>-0.001385</td>\n",
       "      <td>0.000151</td>\n",
       "      <td>0.141367</td>\n",
       "      <td>-0.001884</td>\n",
       "      <td>0.045631</td>\n",
       "      <td>-0.009384</td>\n",
       "      <td>-0.012207</td>\n",
       "      <td>1.000000</td>\n",
       "      <td>1.000000</td>\n",
       "      <td>0.006861</td>\n",
       "      <td>0.119055</td>\n",
       "    </tr>\n",
       "    <tr>\n",
       "      <th>metric9</th>\n",
       "      <td>-0.023138</td>\n",
       "      <td>-0.019503</td>\n",
       "      <td>0.001121</td>\n",
       "      <td>-0.002736</td>\n",
       "      <td>0.532366</td>\n",
       "      <td>0.036069</td>\n",
       "      <td>0.005949</td>\n",
       "      <td>0.021152</td>\n",
       "      <td>0.006861</td>\n",
       "      <td>0.006861</td>\n",
       "      <td>1.000000</td>\n",
       "      <td>0.001622</td>\n",
       "    </tr>\n",
       "    <tr>\n",
       "      <th>failure</th>\n",
       "      <td>0.000157</td>\n",
       "      <td>-0.002702</td>\n",
       "      <td>0.001983</td>\n",
       "      <td>0.052902</td>\n",
       "      <td>-0.000948</td>\n",
       "      <td>0.067398</td>\n",
       "      <td>0.002270</td>\n",
       "      <td>-0.000550</td>\n",
       "      <td>0.119055</td>\n",
       "      <td>0.119055</td>\n",
       "      <td>0.001622</td>\n",
       "      <td>1.000000</td>\n",
       "    </tr>\n",
       "  </tbody>\n",
       "</table>\n",
       "</div>"
      ],
      "text/plain": [
       "             date    device   metric1   metric2   metric3   metric4   metric5  \\\n",
       "date     1.000000  0.024541 -0.003385 -0.038476 -0.000255 -0.003069  0.013847   \n",
       "device   0.024541  1.000000 -0.002224 -0.004132 -0.041057  0.001570 -0.027156   \n",
       "metric1 -0.003385 -0.002224  1.000000 -0.004250  0.003701  0.001836 -0.003376   \n",
       "metric2 -0.038476 -0.004132 -0.004250  1.000000 -0.002617  0.146593 -0.013999   \n",
       "metric3 -0.000255 -0.041057  0.003701 -0.002617  1.000000  0.097452 -0.006696   \n",
       "metric4 -0.003069  0.001570  0.001836  0.146593  0.097452  1.000000 -0.009773   \n",
       "metric5  0.013847 -0.027156 -0.003376 -0.013999 -0.006696 -0.009773  1.000000   \n",
       "metric6  0.095628 -0.122077 -0.001522 -0.026350  0.009027  0.024870 -0.017049   \n",
       "metric7  0.003468 -0.001385  0.000151  0.141367 -0.001884  0.045631 -0.009384   \n",
       "metric8  0.003468 -0.001385  0.000151  0.141367 -0.001884  0.045631 -0.009384   \n",
       "metric9 -0.023138 -0.019503  0.001121 -0.002736  0.532366  0.036069  0.005949   \n",
       "failure  0.000157 -0.002702  0.001983  0.052902 -0.000948  0.067398  0.002270   \n",
       "\n",
       "          metric6   metric7   metric8   metric9   failure  \n",
       "date     0.095628  0.003468  0.003468 -0.023138  0.000157  \n",
       "device  -0.122077 -0.001385 -0.001385 -0.019503 -0.002702  \n",
       "metric1 -0.001522  0.000151  0.000151  0.001121  0.001983  \n",
       "metric2 -0.026350  0.141367  0.141367 -0.002736  0.052902  \n",
       "metric3  0.009027 -0.001884 -0.001884  0.532366 -0.000948  \n",
       "metric4  0.024870  0.045631  0.045631  0.036069  0.067398  \n",
       "metric5 -0.017049 -0.009384 -0.009384  0.005949  0.002270  \n",
       "metric6  1.000000 -0.012207 -0.012207  0.021152 -0.000550  \n",
       "metric7 -0.012207  1.000000  1.000000  0.006861  0.119055  \n",
       "metric8 -0.012207  1.000000  1.000000  0.006861  0.119055  \n",
       "metric9  0.021152  0.006861  0.006861  1.000000  0.001622  \n",
       "failure -0.000550  0.119055  0.119055  0.001622  1.000000  "
      ]
     },
     "execution_count": 23,
     "metadata": {},
     "output_type": "execute_result"
    }
   ],
   "source": [
    "mydata.corr()"
   ]
  },
  {
   "cell_type": "code",
   "execution_count": 24,
   "id": "65db5a0d",
   "metadata": {},
   "outputs": [],
   "source": [
    "# We can able to see good correlation between Metric3 and Metric9 "
   ]
  },
  {
   "cell_type": "code",
   "execution_count": 25,
   "id": "978cf468",
   "metadata": {},
   "outputs": [
    {
     "data": {
      "text/plain": [
       "<AxesSubplot:>"
      ]
     },
     "execution_count": 25,
     "metadata": {},
     "output_type": "execute_result"
    },
    {
     "data": {
      "image/png": "[encoded data removed]",
      "text/plain": [
       "<Figure size 720x720 with 2 Axes>"
      ]
     },
     "metadata": {
      "needs_background": "light"
     },
     "output_type": "display_data"
    }
   ],
   "source": [
    "corr = mydata.corr()\n",
    "#sns.heatmap(corr, annot=True)\n",
    "\n",
    "fig, ax = plt.subplots(figsize=(10,10))         # Sample figsize in inches\n",
    "sns.heatmap(corr, annot=True, linewidths=.5, ax=ax)"
   ]
  },
  {
   "cell_type": "code",
   "execution_count": 26,
   "id": "5b5c3b56",
   "metadata": {},
   "outputs": [
    {
     "data": {
      "text/plain": [
       "array([[<AxesSubplot:title={'center':'date'}>,\n",
       "        <AxesSubplot:title={'center':'device'}>,\n",
       "        <AxesSubplot:title={'center':'metric1'}>],\n",
       "       [<AxesSubplot:title={'center':'metric2'}>,\n",
       "        <AxesSubplot:title={'center':'metric3'}>,\n",
       "        <AxesSubplot:title={'center':'metric4'}>],\n",
       "       [<AxesSubplot:title={'center':'metric5'}>,\n",
       "        <AxesSubplot:title={'center':'metric6'}>,\n",
       "        <AxesSubplot:title={'center':'metric7'}>],\n",
       "       [<AxesSubplot:title={'center':'metric8'}>,\n",
       "        <AxesSubplot:title={'center':'metric9'}>,\n",
       "        <AxesSubplot:title={'center':'failure'}>]], dtype=object)"
      ]
     },
     "execution_count": 26,
     "metadata": {},
     "output_type": "execute_result"
    },
    {
     "data": {
      "image/png": "[encoded data removed]",
      "text/plain": [
       "<Figure size 720x720 with 12 Axes>"
      ]
     },
     "metadata": {
      "needs_background": "light"
     },
     "output_type": "display_data"
    }
   ],
   "source": [
    "mydata.hist(figsize=(10,10))"
   ]
  },
  {
   "cell_type": "code",
   "execution_count": 27,
   "id": "1eac23b5",
   "metadata": {},
   "outputs": [],
   "source": [
    "# From the Histogram chart, only Device, Metric1 and Metric6 shows more or less the normal distribution and \n",
    "# rest of the attributes are mostly right skewed ones."
   ]
  },
  {
   "cell_type": "code",
   "execution_count": 28,
   "id": "1a1373aa",
   "metadata": {},
   "outputs": [],
   "source": [
    "# Lets plot the boxplot to visualize quartile range and the outliers."
   ]
  },
  {
   "cell_type": "code",
   "execution_count": 29,
   "id": "c886abda",
   "metadata": {},
   "outputs": [
    {
     "data": {
      "text/plain": [
       "<AxesSubplot:xlabel='failure', ylabel='date'>"
      ]
     },
     "execution_count": 29,
     "metadata": {},
     "output_type": "execute_result"
    },
    {
     "data": {
      "image/png": "[encoded data removed]",
      "text/plain": [
       "<Figure size 432x288 with 1 Axes>"
      ]
     },
     "metadata": {
      "needs_background": "light"
     },
     "output_type": "display_data"
    }
   ],
   "source": [
    "sns.boxplot(y=\"date\",x=\"failure\",data=mydata)"
   ]
  },
  {
   "cell_type": "code",
   "execution_count": 30,
   "id": "2a939f4c",
   "metadata": {},
   "outputs": [
    {
     "data": {
      "text/plain": [
       "<AxesSubplot:xlabel='failure', ylabel='device'>"
      ]
     },
     "execution_count": 30,
     "metadata": {},
     "output_type": "execute_result"
    },
    {
     "data": {
      "image/png": "[encoded data removed]",
      "text/plain": [
       "<Figure size 432x288 with 1 Axes>"
      ]
     },
     "metadata": {
      "needs_background": "light"
     },
     "output_type": "display_data"
    }
   ],
   "source": [
    "sns.boxplot(y=\"device\",x=\"failure\",data=mydata)"
   ]
  },
  {
   "cell_type": "code",
   "execution_count": 31,
   "id": "322e8038",
   "metadata": {},
   "outputs": [
    {
     "data": {
      "text/plain": [
       "<AxesSubplot:xlabel='failure', ylabel='metric1'>"
      ]
     },
     "execution_count": 31,
     "metadata": {},
     "output_type": "execute_result"
    },
    {
     "data": {
      "image/png": "[encoded data removed]",
      "text/plain": [
       "<Figure size 432x288 with 1 Axes>"
      ]
     },
     "metadata": {
      "needs_background": "light"
     },
     "output_type": "display_data"
    }
   ],
   "source": [
    "sns.boxplot(y=\"metric1\",x=\"failure\",data=mydata)"
   ]
  },
  {
   "cell_type": "code",
   "execution_count": 32,
   "id": "0ffa5a9d",
   "metadata": {},
   "outputs": [
    {
     "data": {
      "text/plain": [
       "<AxesSubplot:xlabel='failure', ylabel='metric2'>"
      ]
     },
     "execution_count": 32,
     "metadata": {},
     "output_type": "execute_result"
    },
    {
     "data": {
      "image/png": "[encoded data removed]",
      "text/plain": [
       "<Figure size 432x288 with 1 Axes>"
      ]
     },
     "metadata": {
      "needs_background": "light"
     },
     "output_type": "display_data"
    }
   ],
   "source": [
    "sns.boxplot(y=\"metric2\",x=\"failure\",data=mydata)"
   ]
  },
  {
   "cell_type": "code",
   "execution_count": 33,
   "id": "12c25a53",
   "metadata": {},
   "outputs": [
    {
     "data": {
      "text/plain": [
       "<AxesSubplot:xlabel='failure', ylabel='metric3'>"
      ]
     },
     "execution_count": 33,
     "metadata": {},
     "output_type": "execute_result"
    },
    {
     "data": {
      "image/png": "[encoded data removed]",
      "text/plain": [
       "<Figure size 432x288 with 1 Axes>"
      ]
     },
     "metadata": {
      "needs_background": "light"
     },
     "output_type": "display_data"
    }
   ],
   "source": [
    "sns.boxplot(y=\"metric3\",x=\"failure\",data=mydata)"
   ]
  },
  {
   "cell_type": "code",
   "execution_count": 34,
   "id": "76276c08",
   "metadata": {},
   "outputs": [
    {
     "data": {
      "text/plain": [
       "<AxesSubplot:xlabel='failure', ylabel='metric4'>"
      ]
     },
     "execution_count": 34,
     "metadata": {},
     "output_type": "execute_result"
    },
    {
     "data": {
      "image/png": "[encoded data removed]",
      "text/plain": [
       "<Figure size 432x288 with 1 Axes>"
      ]
     },
     "metadata": {
      "needs_background": "light"
     },
     "output_type": "display_data"
    }
   ],
   "source": [
    "sns.boxplot(y=\"metric4\",x=\"failure\",data=mydata)"
   ]
  },
  {
   "cell_type": "code",
   "execution_count": 35,
   "id": "88108c78",
   "metadata": {},
   "outputs": [
    {
     "data": {
      "text/plain": [
       "<AxesSubplot:xlabel='failure', ylabel='metric5'>"
      ]
     },
     "execution_count": 35,
     "metadata": {},
     "output_type": "execute_result"
    },
    {
     "data": {
      "image/png": "[encoded data removed]",
      "text/plain": [
       "<Figure size 432x288 with 1 Axes>"
      ]
     },
     "metadata": {
      "needs_background": "light"
     },
     "output_type": "display_data"
    }
   ],
   "source": [
    "sns.boxplot(y=\"metric5\",x=\"failure\",data=mydata)"
   ]
  },
  {
   "cell_type": "code",
   "execution_count": 36,
   "id": "b12473d9",
   "metadata": {},
   "outputs": [
    {
     "data": {
      "text/plain": [
       "<AxesSubplot:xlabel='failure', ylabel='metric6'>"
      ]
     },
     "execution_count": 36,
     "metadata": {},
     "output_type": "execute_result"
    },
    {
     "data": {
      "image/png": "[encoded data removed]",
      "text/plain": [
       "<Figure size 432x288 with 1 Axes>"
      ]
     },
     "metadata": {
      "needs_background": "light"
     },
     "output_type": "display_data"
    }
   ],
   "source": [
    "sns.boxplot(y=\"metric6\",x=\"failure\",data=mydata)"
   ]
  },
  {
   "cell_type": "code",
   "execution_count": 37,
   "id": "c6ad39ae",
   "metadata": {},
   "outputs": [
    {
     "data": {
      "text/plain": [
       "<AxesSubplot:xlabel='failure', ylabel='metric7'>"
      ]
     },
     "execution_count": 37,
     "metadata": {},
     "output_type": "execute_result"
    },
    {
     "data": {
      "image/png": "[encoded data removed]",
      "text/plain": [
       "<Figure size 432x288 with 1 Axes>"
      ]
     },
     "metadata": {
      "needs_background": "light"
     },
     "output_type": "display_data"
    }
   ],
   "source": [
    "sns.boxplot(y=\"metric7\",x=\"failure\",data=mydata)"
   ]
  },
  {
   "cell_type": "code",
   "execution_count": 38,
   "id": "0c80c595",
   "metadata": {},
   "outputs": [
    {
     "data": {
      "text/plain": [
       "<AxesSubplot:xlabel='failure', ylabel='metric8'>"
      ]
     },
     "execution_count": 38,
     "metadata": {},
     "output_type": "execute_result"
    },
    {
     "data": {
      "image/png": "[encoded data removed]",
      "text/plain": [
       "<Figure size 432x288 with 1 Axes>"
      ]
     },
     "metadata": {
      "needs_background": "light"
     },
     "output_type": "display_data"
    }
   ],
   "source": [
    "sns.boxplot(y=\"metric8\",x=\"failure\",data=mydata)"
   ]
  },
  {
   "cell_type": "code",
   "execution_count": 39,
   "id": "901b00f9",
   "metadata": {},
   "outputs": [
    {
     "data": {
      "text/plain": [
       "<AxesSubplot:xlabel='failure', ylabel='metric9'>"
      ]
     },
     "execution_count": 39,
     "metadata": {},
     "output_type": "execute_result"
    },
    {
     "data": {
      "image/png": "[encoded data removed]",
      "text/plain": [
       "<Figure size 432x288 with 1 Axes>"
      ]
     },
     "metadata": {
      "needs_background": "light"
     },
     "output_type": "display_data"
    }
   ],
   "source": [
    "sns.boxplot(y=\"metric9\",x=\"failure\",data=mydata)"
   ]
  },
  {
   "cell_type": "markdown",
   "id": "d50e2697",
   "metadata": {},
   "source": [
    "## Preventive Maintanence Dataset - Insight Summary:"
   ]
  },
  {
   "cell_type": "code",
   "execution_count": 40,
   "id": "50f43100",
   "metadata": {},
   "outputs": [],
   "source": [
    "# After performing the exploratory data analysis, the dataset  is imbalanced\n",
    "# Date and Device columns are of type object, so converted the values to categorical\n",
    "# We can able to find Device, Metric1 and Metric6 atributes have some what normal distribution, Other attributes are assymetrical\n",
    "# There were no missing values in the dataset.\n",
    "# There are many outliers in the dataset which are shown using Box plot graph.."
   ]
  },
  {
   "cell_type": "markdown",
   "id": "40abc166",
   "metadata": {},
   "source": [
    "## Model Buliding"
   ]
  },
  {
   "cell_type": "markdown",
   "id": "a34f2b67",
   "metadata": {},
   "source": [
    "### Building Model with OverSamping"
   ]
  },
  {
   "cell_type": "code",
   "execution_count": 41,
   "id": "905556e6",
   "metadata": {},
   "outputs": [
    {
     "name": "stdout",
     "output_type": "stream",
     "text": [
      "failure 0: (124388, 12)\n",
      "failure 1: (106, 12)\n",
      "total failure of 1 and 0 :\n",
      " 0    124388\n",
      "1    124388\n",
      "Name: failure, dtype: int64\n"
     ]
    },
    {
     "data": {
      "text/plain": [
       "<AxesSubplot:title={'center':'count (target)'}>"
      ]
     },
     "execution_count": 41,
     "metadata": {},
     "output_type": "execute_result"
    },
    {
     "data": {
      "image/png": "[encoded data removed]",
      "text/plain": [
       "<Figure size 432x288 with 1 Axes>"
      ]
     },
     "metadata": {
      "needs_background": "light"
     },
     "output_type": "display_data"
    }
   ],
   "source": [
    "# class count\n",
    "failure_count_0, failure_count_1 = mydata['failure'].value_counts()\n",
    "\n",
    "# Separate class\n",
    "failure_0 = mydata[mydata['failure'] == 0]\n",
    "failure_1 = mydata[mydata['failure'] == 1] \n",
    "\n",
    "# print the shape of the class\n",
    "print('failure 0:', failure_0.shape)\n",
    "print('failure 1:', failure_1.shape)\n",
    "\n",
    "failure_1_over = failure_1.sample(failure_count_0, replace=True)\n",
    "test_over = pd.concat([failure_1_over, failure_0], axis=0)\n",
    "print(\"total failure of 1 and 0 :\\n\", test_over['failure'].value_counts())\n",
    "# plot the count after under-sampeling\n",
    "test_over['failure'].value_counts().plot(kind='bar', title='count (target)')"
   ]
  },
  {
   "cell_type": "code",
   "execution_count": 110,
   "id": "86897872",
   "metadata": {},
   "outputs": [],
   "source": [
    "#using Oversampled Dataset with ANN"
   ]
  },
  {
   "cell_type": "code",
   "execution_count": 64,
   "id": "62d55afc",
   "metadata": {},
   "outputs": [],
   "source": [
    "#split dataset in features and target variable\n",
    "feature_cols = ['metric1', 'metric2','metric3','metric4', 'metric5','metric6','metric7', 'metric8', 'metric9']\n",
    "target_cols = ['failure']\n",
    "\n",
    "X = test_over[feature_cols] # Features\n",
    "Y = test_over[target_cols].values.ravel() # Target variable\n",
    "\n",
    "#training and testing split\n",
    "from sklearn.model_selection import train_test_split\n",
    "X_train, X_test, y_train, y_test = train_test_split(X, Y, test_size = 0.3, random_state = 0)\n",
    "\n",
    "#feature scaling is an important and mandatory for ann process before modelling\n",
    "from sklearn.preprocessing import StandardScaler\n",
    "sc = StandardScaler()\n",
    "X_train = sc.fit_transform(X_train)\n",
    "X_test = sc.transform(X_test)\n",
    "\n"
   ]
  },
  {
   "cell_type": "code",
   "execution_count": 65,
   "id": "c36baff3",
   "metadata": {},
   "outputs": [],
   "source": [
    "#ANN - initializing\n",
    "ann = tf.keras.models.Sequential()"
   ]
  },
  {
   "cell_type": "code",
   "execution_count": 66,
   "id": "0273df6e",
   "metadata": {},
   "outputs": [],
   "source": [
    "#input layer\n",
    "# 6 features\n",
    "ann.add(tf.keras.layers.Dense(units=6, activation='relu'))\n",
    "#hidden layer\n",
    "ann.add(tf.keras.layers.Dense(units=6, activation='relu'))\n",
    "#output layer\n",
    "#as target value is binary - AF\n",
    "ann.add(tf.keras.layers.Dense(units=1, activation='sigmoid'))\n",
    "#compiling\n",
    "#loss - target is binary \n",
    "ann.compile(optimizer = 'adam', loss = 'binary_crossentropy', metrics = ['accuracy'])"
   ]
  },
  {
   "cell_type": "code",
   "execution_count": 67,
   "id": "09d10b71",
   "metadata": {},
   "outputs": [
    {
     "name": "stdout",
     "output_type": "stream",
     "text": [
      "Epoch 1/50\n",
      "5442/5442 [==============================] - 11s 2ms/step - loss: 0.5015 - accuracy: 0.7482\n",
      "Epoch 2/50\n",
      "5442/5442 [==============================] - 9s 2ms/step - loss: 0.4077 - accuracy: 0.8073\n",
      "Epoch 3/50\n",
      "5442/5442 [==============================] - 8s 2ms/step - loss: 0.3670 - accuracy: 0.8377\n",
      "Epoch 4/50\n",
      "5442/5442 [==============================] - 9s 2ms/step - loss: 0.3406 - accuracy: 0.8505\n",
      "Epoch 5/50\n",
      "5442/5442 [==============================] - 8s 2ms/step - loss: 0.3292 - accuracy: 0.8550: 0s - loss:\n",
      "Epoch 6/50\n",
      "5442/5442 [==============================] - 8s 2ms/step - loss: 0.3237 - accuracy: 0.8564\n",
      "Epoch 7/50\n",
      "5442/5442 [==============================] - 8s 1ms/step - loss: 0.3203 - accuracy: 0.8574\n",
      "Epoch 8/50\n",
      "5442/5442 [==============================] - 9s 2ms/step - loss: 0.3177 - accuracy: 0.8585\n",
      "Epoch 9/50\n",
      "5442/5442 [==============================] - 9s 2ms/step - loss: 0.3160 - accuracy: 0.8590\n",
      "Epoch 10/50\n",
      "5442/5442 [==============================] - 11s 2ms/step - loss: 0.3143 - accuracy: 0.8600\n",
      "Epoch 11/50\n",
      "5442/5442 [==============================] - 9s 2ms/step - loss: 0.3126 - accuracy: 0.8610\n",
      "Epoch 12/50\n",
      "5442/5442 [==============================] - 8s 1ms/step - loss: 0.3097 - accuracy: 0.8625\n",
      "Epoch 13/50\n",
      "5442/5442 [==============================] - 8s 2ms/step - loss: 0.3062 - accuracy: 0.8658\n",
      "Epoch 14/50\n",
      "5442/5442 [==============================] - 8s 1ms/step - loss: 0.3000 - accuracy: 0.8698\n",
      "Epoch 15/50\n",
      "5442/5442 [==============================] - 10s 2ms/step - loss: 0.2927 - accuracy: 0.8774\n",
      "Epoch 16/50\n",
      "5442/5442 [==============================] - 10s 2ms/step - loss: 0.2874 - accuracy: 0.8819\n",
      "Epoch 17/50\n",
      "5442/5442 [==============================] - 9s 2ms/step - loss: 0.2848 - accuracy: 0.8845\n",
      "Epoch 18/50\n",
      "5442/5442 [==============================] - 10s 2ms/step - loss: 0.2819 - accuracy: 0.8860\n",
      "Epoch 19/50\n",
      "5442/5442 [==============================] - 8s 2ms/step - loss: 0.2800 - accuracy: 0.8862\n",
      "Epoch 20/50\n",
      "5442/5442 [==============================] - 9s 2ms/step - loss: 0.2776 - accuracy: 0.8873\n",
      "Epoch 21/50\n",
      "5442/5442 [==============================] - 9s 2ms/step - loss: 0.2767 - accuracy: 0.8880\n",
      "Epoch 22/50\n",
      "5442/5442 [==============================] - 10s 2ms/step - loss: 0.2743 - accuracy: 0.8913\n",
      "Epoch 23/50\n",
      "5442/5442 [==============================] - 9s 2ms/step - loss: 0.2727 - accuracy: 0.8918\n",
      "Epoch 24/50\n",
      "5442/5442 [==============================] - 8s 1ms/step - loss: 0.2711 - accuracy: 0.8919\n",
      "Epoch 25/50\n",
      "5442/5442 [==============================] - 9s 2ms/step - loss: 0.2697 - accuracy: 0.8895\n",
      "Epoch 26/50\n",
      "5442/5442 [==============================] - 7s 1ms/step - loss: 0.2678 - accuracy: 0.8881\n",
      "Epoch 27/50\n",
      "5442/5442 [==============================] - 7s 1ms/step - loss: 0.2663 - accuracy: 0.8875\n",
      "Epoch 28/50\n",
      "5442/5442 [==============================] - 9s 2ms/step - loss: 0.2644 - accuracy: 0.8876\n",
      "Epoch 29/50\n",
      "5442/5442 [==============================] - 7s 1ms/step - loss: 0.2628 - accuracy: 0.8891\n",
      "Epoch 30/50\n",
      "5442/5442 [==============================] - 8s 1ms/step - loss: 0.2615 - accuracy: 0.8897\n",
      "Epoch 31/50\n",
      "5442/5442 [==============================] - 8s 1ms/step - loss: 0.2608 - accuracy: 0.8906\n",
      "Epoch 32/50\n",
      "5442/5442 [==============================] - 8s 1ms/step - loss: 0.2598 - accuracy: 0.8915\n",
      "Epoch 33/50\n",
      "5442/5442 [==============================] - 7s 1ms/step - loss: 0.2598 - accuracy: 0.8919\n",
      "Epoch 34/50\n",
      "5442/5442 [==============================] - 7s 1ms/step - loss: 0.2588 - accuracy: 0.8920\n",
      "Epoch 35/50\n",
      "5442/5442 [==============================] - 7s 1ms/step - loss: 0.2584 - accuracy: 0.8928\n",
      "Epoch 36/50\n",
      "5442/5442 [==============================] - 8s 1ms/step - loss: 0.2586 - accuracy: 0.8921\n",
      "Epoch 37/50\n",
      "5442/5442 [==============================] - 7s 1ms/step - loss: 0.2578 - accuracy: 0.8928\n",
      "Epoch 38/50\n",
      "5442/5442 [==============================] - 8s 1ms/step - loss: 0.2576 - accuracy: 0.8925\n",
      "Epoch 39/50\n",
      "5442/5442 [==============================] - 7s 1ms/step - loss: 0.2578 - accuracy: 0.8926\n",
      "Epoch 40/50\n",
      "5442/5442 [==============================] - 7s 1ms/step - loss: 0.2572 - accuracy: 0.8929\n",
      "Epoch 41/50\n",
      "5442/5442 [==============================] - 7s 1ms/step - loss: 0.2574 - accuracy: 0.8931\n",
      "Epoch 42/50\n",
      "5442/5442 [==============================] - 7s 1ms/step - loss: 0.2571 - accuracy: 0.8926\n",
      "Epoch 43/50\n",
      "5442/5442 [==============================] - 7s 1ms/step - loss: 0.2570 - accuracy: 0.8937\n",
      "Epoch 44/50\n",
      "5442/5442 [==============================] - 8s 2ms/step - loss: 0.2572 - accuracy: 0.8935\n",
      "Epoch 45/50\n",
      "5442/5442 [==============================] - 8s 2ms/step - loss: 0.2571 - accuracy: 0.8937\n",
      "Epoch 46/50\n",
      "5442/5442 [==============================] - 9s 2ms/step - loss: 0.2570 - accuracy: 0.8931\n",
      "Epoch 47/50\n",
      "5442/5442 [==============================] - 8s 1ms/step - loss: 0.2566 - accuracy: 0.8935\n",
      "Epoch 48/50\n",
      "5442/5442 [==============================] - 8s 2ms/step - loss: 0.2565 - accuracy: 0.8938\n",
      "Epoch 49/50\n",
      "5442/5442 [==============================] - 9s 2ms/step - loss: 0.2567 - accuracy: 0.8935\n",
      "Epoch 50/50\n",
      "5442/5442 [==============================] - 9s 2ms/step - loss: 0.2566 - accuracy: 0.8934\n"
     ]
    },
    {
     "data": {
      "text/plain": [
       "<keras.callbacks.History at 0x26e0db3d790>"
      ]
     },
     "execution_count": 67,
     "metadata": {},
     "output_type": "execute_result"
    }
   ],
   "source": [
    "#training set\n",
    "ann.fit(X_train, y_train, batch_size = 32, epochs = 50)"
   ]
  },
  {
   "cell_type": "code",
   "execution_count": 68,
   "id": "6813826a",
   "metadata": {},
   "outputs": [],
   "source": [
    "# prediction\n",
    "y_pred = ann.predict(X_test)"
   ]
  },
  {
   "cell_type": "code",
   "execution_count": 69,
   "id": "c3a1710f",
   "metadata": {},
   "outputs": [
    {
     "name": "stdout",
     "output_type": "stream",
     "text": [
      "[[0 0]\n",
      " [0 0]\n",
      " [1 1]\n",
      " ...\n",
      " [1 1]\n",
      " [1 1]\n",
      " [1 1]]\n"
     ]
    }
   ],
   "source": [
    "#insted of values we ll get 0 or 1\n",
    "y_pred = (y_pred > 0.5)\n",
    "#actual vs prediicted outputs\n",
    "print(np.concatenate((y_pred.reshape(len(y_pred),1), y_test.reshape(len(y_test),1)),1))"
   ]
  },
  {
   "cell_type": "code",
   "execution_count": 70,
   "id": "22815edd",
   "metadata": {},
   "outputs": [
    {
     "name": "stdout",
     "output_type": "stream",
     "text": [
      "Confustion Matrix\n",
      "[[34312  2965]\n",
      " [ 5567 31789]]\n",
      "Accuracy : 0.8856805970549221\n",
      "Precision: 0.9146860793002244\n",
      "Recall   : 0.8509744083949031\n",
      "F1 score : 0.8816807654971571\n"
     ]
    }
   ],
   "source": [
    "cnf_matrix = confusion_matrix(y_test, y_pred)\n",
    "print (\"Confustion Matrix\")\n",
    "print (cnf_matrix)\n",
    "print(\"Accuracy :\",accuracy_score(y_test, y_pred))\n",
    "print(\"Precision:\",precision_score(y_test, y_pred))\n",
    "print(\"Recall   :\",recall_score(y_test, y_pred))\n",
    "print('F1 score :',f1_score(y_test, y_pred))"
   ]
  },
  {
   "cell_type": "code",
   "execution_count": null,
   "id": "de347915",
   "metadata": {},
   "outputs": [],
   "source": [
    "Confustion Matrix\n",
    "[[34077  3200]\n",
    " [ 2711 34645]]\n",
    "Accuracy : 0.9207991103131322\n",
    "Precision: 0.9154445765622936\n",
    "Recall   : 0.9274279901488383\n",
    "F1 score : 0.9213973218441244"
   ]
  }
 ],
 "metadata": {
  "kernelspec": {
   "display_name": "Python 3",
   "language": "python",
   "name": "python3"
  },
  "language_info": {
   "codemirror_mode": {
    "name": "ipython",
    "version": 3
   },
   "file_extension": ".py",
   "mimetype": "text/x-python",
   "name": "python",
   "nbconvert_exporter": "python",
   "pygments_lexer": "ipython3",
   "version": "3.8.8"
  }
 },
 "nbformat": 4,
 "nbformat_minor": 5
}
